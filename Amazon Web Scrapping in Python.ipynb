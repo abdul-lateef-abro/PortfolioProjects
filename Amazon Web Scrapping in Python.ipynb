{
 "cells": [
  {
   "cell_type": "code",
   "execution_count": 1,
   "id": "73a0ecec",
   "metadata": {},
   "outputs": [],
   "source": [
    "#import libraries\n",
    "\n",
    "from bs4 import BeautifulSoup\n",
    "import requests\n",
    "import smtplib\n",
    "import time\n",
    "import datetime"
   ]
  },
  {
   "cell_type": "code",
   "execution_count": 3,
   "id": "bc137d0d",
   "metadata": {},
   "outputs": [
    {
     "name": "stdout",
     "output_type": "stream",
     "text": [
      "\n",
      "            The Lord of The Rings Trilogy: [Theatrical and Extended Edition] [4K Ultra HD] [2001] [Blu-ray] [Region Free]\n",
      "           \n",
      "\n",
      "                    $74.18\n",
      "                   \n"
     ]
    }
   ],
   "source": [
    "#connect to website\n",
    "\n",
    "URL = 'https://www.amazon.com/Lord-Rings-Trilogy-Theatrical-Extended/dp/B08KJNXNKW'\n",
    "headers = {\"User-Agent\": \"Mozilla/5.0 (Windows NT 10.0; Win64; x64) AppleWebKit/537.36 (KHTML, like Gecko) Chrome/97.0.4692.99 Safari/537.36 Edg/97.0.1072.69\"}\n",
    "\n",
    "page = requests.get(URL, headers = headers)\n",
    "\n",
    "soup1 = BeautifulSoup(page.content, \"html.parser\")\n",
    "soup2 = BeautifulSoup(soup1.prettify(), \"html.parser\")\n",
    "\n",
    "title = soup2.find(id = 'productTitle').get_text()\n",
    "price = soup2.find(id = 'price_inside_buybox').get_text()\n",
    "\n",
    "print(title)\n",
    "print(price)"
   ]
  },
  {
   "cell_type": "code",
   "execution_count": 4,
   "id": "1aab4cc2",
   "metadata": {},
   "outputs": [
    {
     "name": "stdout",
     "output_type": "stream",
     "text": [
      "The Lord of The Rings Trilogy: [Theatrical and Extended Edition] [4K Ultra HD] [2001] [Blu-ray] [Region Free]\n",
      "74.18\n"
     ]
    }
   ],
   "source": [
    "# remove $-sign from price\n",
    "price_usd = price.strip()[1:]\n",
    "title = title.strip()\n",
    "\n",
    "print(title)\n",
    "print(price_usd) "
   ]
  },
  {
   "cell_type": "code",
   "execution_count": 20,
   "id": "5d22c275",
   "metadata": {},
   "outputs": [],
   "source": [
    "import datetime\n",
    "date = datetime.date.today()"
   ]
  },
  {
   "cell_type": "code",
   "execution_count": 21,
   "id": "12ff240d",
   "metadata": {},
   "outputs": [],
   "source": [
    "import csv\n",
    "header = ['Title', 'Price_USD', 'Date']\n",
    "data = [title, price_usd, date]\n",
    "\n",
    "with open ('AmazonWebScraper.csv', 'w', newline='', encoding = 'UTF8') as f:\n",
    "    writer = csv.writer(f)\n",
    "    writer.writerow(header)\n",
    "    writer.writerow(data)\n",
    "    \n"
   ]
  },
  {
   "cell_type": "code",
   "execution_count": 22,
   "id": "55b77220",
   "metadata": {},
   "outputs": [
    {
     "name": "stdout",
     "output_type": "stream",
     "text": [
      "                                               Title  Price_USD        Date\n",
      "0  The Lord of The Rings Trilogy: [Theatrical and...      74.18  2022-01-26\n"
     ]
    }
   ],
   "source": [
    "import pandas as pd\n",
    "df = pd.read_csv(r'C:\\Users\\lateeabd\\AmazonWebScraper.csv')\n",
    "print(df)"
   ]
  },
  {
   "cell_type": "code",
   "execution_count": 8,
   "id": "6418ce44",
   "metadata": {},
   "outputs": [],
   "source": [
    "# Appending Data to csv\n",
    "with open ('AmazonWebScraper.csv', 'w', newline='', encoding = 'UTF8') as f:\n",
    "    writer = csv.writer(f)\n",
    "    writer.writerow(data)\n"
   ]
  },
  {
   "cell_type": "code",
   "execution_count": 23,
   "id": "3ff60655",
   "metadata": {},
   "outputs": [],
   "source": [
    "def check_price():\n",
    "    URL = 'https://www.amazon.com/Lord-Rings-Trilogy-Theatrical-Extended/dp/B08KJNXNKW'\n",
    "    headers = {\"User-Agent\": \"Mozilla/5.0 (Windows NT 10.0; Win64; x64) AppleWebKit/537.36 (KHTML, like Gecko) Chrome/97.0.4692.99 Safari/537.36 Edg/97.0.1072.69\"}\n",
    "\n",
    "    page = requests.get(URL, headers = headers)\n",
    "\n",
    "    soup1 = BeautifulSoup(page.content, \"html.parser\")\n",
    "    soup2 = BeautifulSoup(soup1.prettify(), \"html.parser\")\n",
    "\n",
    "    title = soup2.find(id = 'productTitle').get_text()\n",
    "    price = soup2.find(id = 'price_inside_buybox').get_text()\n",
    "    \n",
    "    price_usd = price.strip()[1:]\n",
    "    title = title.strip()\n",
    "    import datetime\n",
    "    date = datetime.date.today()\n",
    "    \n",
    "    import csv\n",
    "    header = ['Title', 'Price_USD', 'Date']\n",
    "    data = [title, price_usd, date]\n",
    "    \n",
    "    with open ('AmazonWebScraper.csv', 'w', newline='', encoding = 'UTF8') as f:\n",
    "        writer = csv.writer(f)\n",
    "        #writer.writerow(header)\n",
    "        writer.writerow(data)"
   ]
  },
  {
   "cell_type": "code",
   "execution_count": null,
   "id": "3925cf25",
   "metadata": {},
   "outputs": [],
   "source": [
    "while(True):\n",
    "    check_price()\n",
    "    time.sleep(86400) #checks price/runs script once everyday"
   ]
  },
  {
   "cell_type": "code",
   "execution_count": 24,
   "id": "360f19d0",
   "metadata": {},
   "outputs": [
    {
     "name": "stdout",
     "output_type": "stream",
     "text": [
      "                                               Title  Price_USD        Date\n",
      "0  The Lord of The Rings Trilogy: [Theatrical and...      74.18  2022-01-26\n"
     ]
    }
   ],
   "source": [
    "import pandas as pd\n",
    "df = pd.read_csv(r'C:\\Users\\lateeabd\\AmazonWebScraper.csv')\n",
    "print(df)"
   ]
  }
 ],
 "metadata": {
  "kernelspec": {
   "display_name": "Python 3 (ipykernel)",
   "language": "python",
   "name": "python3"
  },
  "language_info": {
   "codemirror_mode": {
    "name": "ipython",
    "version": 3
   },
   "file_extension": ".py",
   "mimetype": "text/x-python",
   "name": "python",
   "nbconvert_exporter": "python",
   "pygments_lexer": "ipython3",
   "version": "3.9.7"
  }
 },
 "nbformat": 4,
 "nbformat_minor": 5
}
